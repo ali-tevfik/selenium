{
 "cells": [
  {
   "cell_type": "code",
   "execution_count": 2,
   "metadata": {},
   "outputs": [
    {
     "name": "stdout",
     "output_type": "stream",
     "text": [
      "haber cesidicoronavirus\n"
     ]
    }
   ],
   "source": [
    "\n",
    "istinilen_haber=input(\"haber cesidi\")"
   ]
  },
  {
   "cell_type": "code",
   "execution_count": 4,
   "metadata": {},
   "outputs": [
    {
     "name": "stdout",
     "output_type": "stream",
     "text": [
      "['Lange wachtrijen', 'Drukte bij boodschappenbezorgers, kwetsbare mensen in de knel']\n"
     ]
    }
   ],
   "source": [
    "from  selenium import webdriver\n",
    "import time\n",
    "links=[]\n",
    "yazilar=[]\n",
    "imgs=[]\n",
    "titles=[]\n",
    "\n",
    "\n",
    "\n",
    "\n",
    "chrome_options = webdriver.ChromeOptions()\n",
    "prefs = {\"profile.managed_default_content_settings.images\": 0}\n",
    "chrome_options.add_experimental_option(\"prefs\", prefs)\n",
    "\n",
    "driver_path = \"chromedriver\"\n",
    "browser = webdriver.Chrome(executable_path=driver_path,chrome_options=chrome_options)\n",
    "browser.get(\"https://www.rtlnieuws.nl/nieuws/nederland\")\n",
    "accept=browser.find_element_by_xpath(\"/html/body/div/div[5]/form/input[5]\")\n",
    "accept.click()\n",
    "\n",
    "# #sayfanin en assagiya inme\n",
    "# sayfa=0\n",
    "# lenOfPage = browser.execute_script(\"window.scrollTo(0, document.body.scrollHeight);var lenOfPage=document.body.scrollHeight;return lenOfPage;\")\n",
    "# match=False\n",
    "# while(match==False):\n",
    "#     lastCount = lenOfPage\n",
    "#     time.sleep(3)\n",
    "#     lenOfPage = browser.execute_script(\"window.scrollTo(0, document.body.scrollHeight);var lenOfPage=document.body.scrollHeight;return lenOfPage;\")\n",
    "#     sayfa=sayfa+1\n",
    "#     if sayfa ==3:\n",
    "#         match=True\n",
    "\n",
    "elems=browser.find_elements_by_css_selector(\".large-4 [href]\")\n",
    "for elem in elems:\n",
    "    links.append(elem.get_attribute(\"href\"))\n",
    "    \n",
    "for link in links:\n",
    "    browser.get(link)\n",
    "    try:\n",
    "        \n",
    "        gelen_yazi=browser.find_element_by_css_selector(\".lede\").text\n",
    "       \n",
    "        if istinilen_haber in gelen_yazi:\n",
    "            \n",
    "            yazilar.append(browser.find_element_by_css_selector(\".lede\").text)\n",
    "            imgs.append(browser.find_element_by_css_selector(\".loading\").get_attribute(\"src\"))\n",
    "            titles.append(browser.find_element_by_css_selector(\".node-title\").text)\n",
    "\n",
    "       \n",
    "    except:\n",
    "         print(browser.find_element_by_css_selector(\".large-4.medium-12.small-12.column.video-content\").text.split(\"\\n\")[0:2])\n",
    "    \n",
    "    time.sleep(2)"
   ]
  },
  {
   "cell_type": "code",
   "execution_count": 6,
   "metadata": {},
   "outputs": [
    {
     "data": {
      "text/plain": [
       "5"
      ]
     },
     "execution_count": 6,
     "metadata": {},
     "output_type": "execute_result"
    }
   ],
   "source": [
    "len(yazilar)"
   ]
  },
  {
   "cell_type": "code",
   "execution_count": 7,
   "metadata": {},
   "outputs": [
    {
     "data": {
      "text/plain": [
       "['Alle zorgmedewerkers met klachten die duiden op het coronavirus mogen vanaf nu getest worden. Dat bevestigt de landelijke GGD aan RTL Nieuws. Na felle kritiek van zorgpersoneel worden de voorwaarden losgelaten waarbij alleen specifieke medewerkers werden getest op het coronavirus.',\n",
       " 'De afgelopen weken zijn minstens 25.000 mensen per week ziek geweest door het coronavirus. Dat blijkt uit nieuwe cijfers van kennisinstituut Nivel, geanalyseerd door de onderzoeksredactie van RTL Nieuws. Omdat veel mensen thuis uitzieken en niet naar het ziekenhuis hoeven, was lange tijd onbekend hoe groot de epidemie is.',\n",
       " \"Artsen en andere hulpverleners moeten denken om hun eigen gezondheid en alleen met de juiste beschermingsmiddelen hun werk doen met, mogelijke, coronapatiënten. De risico's op besmetting met het coronavirus zijn op dit moment te groot voor hulpverleners, stelt artsenfederatie KNMG. Volg het nieuws over de coronacrisis in ons liveblog.\",\n",
       " 'Het coronavirus heeft grote impact op hoe we afscheid nemen van overledenen. Een knuffel geven aan een stervende, een hand vasthouden: het mag vaak niet meer. En niet iedereen kan een uitvaart nog bijwonen omdat er maar dertig mensen worden toegelaten. Hoe kun je dan toch goed afscheid nemen?',\n",
       " \"Leonieke en haar gezin zijn radeloos. Sinds de uitbraak van het coronavirus zitten ze thuis in quarantaine wegens haar ernstig zieke dochter. Ze zijn volledig afhankelijk van online boodschappen bestellen, maar dat lukt al weken niet meer. ''Naar de supermarkt is voor ons een soort Russisch roulette.''\"]"
      ]
     },
     "execution_count": 7,
     "metadata": {},
     "output_type": "execute_result"
    }
   ],
   "source": [
    "yazilar"
   ]
  },
  {
   "cell_type": "code",
   "execution_count": 8,
   "metadata": {},
   "outputs": [
    {
     "data": {
      "text/plain": [
       "['GGD: alle zorgmedewerkers met klachten mogen een coronatest',\n",
       " 'Niet getest, toch Covid-19: huisartsen stellen diagnose corona bij tienduizenden patiënten',\n",
       " 'Artsenfederatie: alleen zorg verlenen met juiste bescherming',\n",
       " 'Niet knuffelen met stervende, niet naar begrafenis: hoe rouw je in tijden van corona?']"
      ]
     },
     "execution_count": 8,
     "metadata": {},
     "output_type": "execute_result"
    }
   ],
   "source": [
    "titles"
   ]
  },
  {
   "cell_type": "code",
   "execution_count": 9,
   "metadata": {},
   "outputs": [
    {
     "data": {
      "text/plain": [
       "['https://www.rtlnieuws.nl/themes/custom/rtlnieuws/images/traffic/car.svg',\n",
       " 'https://www.rtlnieuws.nl/themes/custom/rtlnieuws/images/weather/cc.svg',\n",
       " 'https://www.rtlnieuws.nl/themes/custom/rtlnieuws/images/weather/cc.svg',\n",
       " 'https://www.rtlnieuws.nl/themes/custom/rtlnieuws/images/weather/cc.svg',\n",
       " 'https://www.rtlnieuws.nl/themes/custom/rtlnieuws/images/traffic/car.svg']"
      ]
     },
     "execution_count": 9,
     "metadata": {},
     "output_type": "execute_result"
    }
   ],
   "source": [
    "imgs"
   ]
  },
  {
   "cell_type": "code",
   "execution_count": null,
   "metadata": {},
   "outputs": [],
   "source": [
    "class haber:\n",
    "    __init (img,titile,yazi)"
   ]
  },
  {
   "cell_type": "code",
   "execution_count": null,
   "metadata": {},
   "outputs": [],
   "source": []
  }
 ],
 "metadata": {
  "kernelspec": {
   "display_name": "Python 3",
   "language": "python",
   "name": "python3"
  },
  "language_info": {
   "codemirror_mode": {
    "name": "ipython",
    "version": 3
   },
   "file_extension": ".py",
   "mimetype": "text/x-python",
   "name": "python",
   "nbconvert_exporter": "python",
   "pygments_lexer": "ipython3",
   "version": "3.8.2"
  }
 },
 "nbformat": 4,
 "nbformat_minor": 4
}
